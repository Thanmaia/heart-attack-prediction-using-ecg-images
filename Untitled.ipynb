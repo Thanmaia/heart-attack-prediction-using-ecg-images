{
 "cells": [
  {
   "cell_type": "code",
   "execution_count": 1,
   "id": "210a7833",
   "metadata": {},
   "outputs": [],
   "source": [
    "import os\n",
    "from tensorflow.keras.preprocessing.image import ImageDataGenerator\n",
    "from tensorflow.keras.models import Sequential\n",
    "from tensorflow.keras.layers import Conv2D, MaxPooling2D, Flatten, Dense"
   ]
  },
  {
   "cell_type": "code",
   "execution_count": 2,
   "id": "7cdd7ff9",
   "metadata": {},
   "outputs": [],
   "source": [
    "# Set the dataset root directory\n",
    "dataset_root = \"./start\"\n"
   ]
  },
  {
   "cell_type": "code",
   "execution_count": 3,
   "id": "d32bc87f",
   "metadata": {},
   "outputs": [],
   "source": [
    "# Set the image dimensions\n",
    "image_width = 500\n",
    "image_height = 500"
   ]
  },
  {
   "cell_type": "code",
   "execution_count": 4,
   "id": "5aa6f358",
   "metadata": {},
   "outputs": [],
   "source": [
    "# Create the data generator\n",
    "datagen = ImageDataGenerator(rescale=1./255)"
   ]
  },
  {
   "cell_type": "code",
   "execution_count": 5,
   "id": "b33aa322",
   "metadata": {},
   "outputs": [
    {
     "name": "stdout",
     "output_type": "stream",
     "text": [
      "Found 928 images belonging to 4 classes.\n"
     ]
    }
   ],
   "source": [
    "# Load and augment the training data\n",
    "train_generator = datagen.flow_from_directory(\n",
    "    \"C:/Users/THANMAI/Downloads/start/train\",\n",
    "    target_size=(image_width, image_height),\n",
    "    batch_size=32,\n",
    "    class_mode='categorical'\n",
    ")\n"
   ]
  },
  {
   "cell_type": "code",
   "execution_count": null,
   "id": "b995bdd3",
   "metadata": {},
   "outputs": [],
   "source": []
  },
  {
   "cell_type": "code",
   "execution_count": 6,
   "id": "46e85b34",
   "metadata": {},
   "outputs": [
    {
     "name": "stdout",
     "output_type": "stream",
     "text": [
      "Found 448 images belonging to 4 classes.\n"
     ]
    }
   ],
   "source": [
    "# Load the testing data\n",
    "test_generator = datagen.flow_from_directory(\n",
    "    \"C:/Users/THANMAI/Downloads/start/test\",\n",
    "    target_size=(image_width, image_height),\n",
    "    batch_size=32,\n",
    "    class_mode='categorical',\n",
    "    shuffle=False\n",
    ")"
   ]
  },
  {
   "cell_type": "code",
   "execution_count": 7,
   "id": "3c4720d9",
   "metadata": {},
   "outputs": [],
   "source": [
    "# Build the CNN model\n",
    "model = Sequential()\n",
    "model.add(Conv2D(32, (3, 3), activation='relu', input_shape=(image_width, image_height, 3)))\n",
    "model.add(MaxPooling2D((2, 2)))\n",
    "model.add(Conv2D(64, (3, 3), activation='relu'))\n",
    "model.add(MaxPooling2D((2, 2)))\n",
    "model.add(Conv2D(128, (3, 3), activation='relu'))\n",
    "model.add(MaxPooling2D((2, 2)))\n",
    "model.add(Flatten())\n",
    "model.add(Dense(128, activation='relu'))\n",
    "model.add(Dense(4, activation='softmax'))"
   ]
  },
  {
   "cell_type": "code",
   "execution_count": 8,
   "id": "a4f0250e",
   "metadata": {},
   "outputs": [],
   "source": [
    "# Compile the model\n",
    "model.compile(optimizer='adam', loss='categorical_crossentropy', metrics=['accuracy'])"
   ]
  },
  {
   "cell_type": "code",
   "execution_count": 9,
   "id": "0fb9ca08",
   "metadata": {},
   "outputs": [
    {
     "name": "stdout",
     "output_type": "stream",
     "text": [
      "Epoch 1/10\n",
      "29/29 [==============================] - 319s 11s/step - loss: 4.8268 - accuracy: 0.2672\n",
      "Epoch 2/10\n",
      "29/29 [==============================] - 303s 10s/step - loss: 1.3967 - accuracy: 0.3028\n",
      "Epoch 3/10\n",
      "29/29 [==============================] - 316s 11s/step - loss: 1.3726 - accuracy: 0.3534\n",
      "Epoch 4/10\n",
      "29/29 [==============================] - 307s 10s/step - loss: 0.9453 - accuracy: 0.6595\n",
      "Epoch 5/10\n",
      "29/29 [==============================] - 317s 11s/step - loss: 0.5013 - accuracy: 0.8427\n",
      "Epoch 6/10\n",
      "29/29 [==============================] - 250s 8s/step - loss: 0.2198 - accuracy: 0.9375\n",
      "Epoch 7/10\n",
      "29/29 [==============================] - 166s 6s/step - loss: 0.0802 - accuracy: 0.9795\n",
      "Epoch 8/10\n",
      "29/29 [==============================] - 169s 6s/step - loss: 0.0429 - accuracy: 0.9871\n",
      "Epoch 9/10\n",
      "29/29 [==============================] - 184s 6s/step - loss: 0.0087 - accuracy: 1.0000\n",
      "Epoch 10/10\n",
      "29/29 [==============================] - 165s 6s/step - loss: 0.0036 - accuracy: 1.0000\n"
     ]
    },
    {
     "data": {
      "text/plain": [
       "<keras.callbacks.History at 0x1f3393c5dc0>"
      ]
     },
     "execution_count": 9,
     "metadata": {},
     "output_type": "execute_result"
    }
   ],
   "source": [
    "# Train the model\n",
    "model.fit(train_generator, epochs=10)"
   ]
  },
  {
   "cell_type": "code",
   "execution_count": 10,
   "id": "1cebcc3a",
   "metadata": {},
   "outputs": [],
   "source": [
    "model.save(\"model.h5\")"
   ]
  },
  {
   "cell_type": "code",
   "execution_count": 29,
   "id": "04b1e40d",
   "metadata": {},
   "outputs": [
    {
     "name": "stdout",
     "output_type": "stream",
     "text": [
      "1/1 [==============================] - 0s 63ms/step\n",
      "Predicted Class: 1\n"
     ]
    }
   ],
   "source": [
    "import cv2\n",
    "import numpy as np\n",
    "test_image_path =  \"C:\\\\Users\\\\THANMAI\\\\Downloads\\\\start\\\\test\\\\ECG Images of Patient that have History of MI (172x12=2064)\\\\test (2).jpg\"\n",
    "# Load the test image\n",
    "test_image = cv2.imread(test_image_path)\n",
    "test_image = cv2.resize(test_image, (image_width, image_height))\n",
    "test_image = np.expand_dims(test_image, axis=0)\n",
    "test_image = test_image / 255.0  # Normalize the image\n",
    "\n",
    "# Make the prediction\n",
    "prediction = model.predict(test_image)\n",
    "predicted_class = np.argmax(prediction)\n",
    "\n",
    "print(\"Predicted Class:\", predicted_class)"
   ]
  },
  {
   "cell_type": "code",
   "execution_count": 30,
   "id": "2955b7ae",
   "metadata": {},
   "outputs": [
    {
     "name": "stdout",
     "output_type": "stream",
     "text": [
      "Predicted Class: 1\n",
      "Output: Chance of heart attack\n"
     ]
    }
   ],
   "source": [
    "predicted_class = np.argmax(prediction)\n",
    "\n",
    "if predicted_class == 0:\n",
    "    output = \"Maximized chance of heart attack\"\n",
    "elif predicted_class == 1:\n",
    "    output = \"Chance of heart attack\"\n",
    "elif predicted_class == 2:\n",
    "    output = \"ECG of patient with heart attack\"\n",
    "elif predicted_class == 3:\n",
    "    output = \"Patient is healthy, no chances of heart attack\"\n",
    "else:\n",
    "    output = \"Unknown class\"\n",
    "\n",
    "print(\"Predicted Class:\", predicted_class)\n",
    "print(\"Output:\", output)\n"
   ]
  },
  {
   "cell_type": "code",
   "execution_count": 1,
   "id": "87d0f1f5",
   "metadata": {},
   "outputs": [
    {
     "name": "stdout",
     "output_type": "stream",
     "text": [
      "Writing app.py\n"
     ]
    }
   ],
   "source": [
    "%%writefile app.py\n",
    "# Your Streamlit app code here"
   ]
  },
  {
   "cell_type": "code",
   "execution_count": 1,
   "id": "78ff8b9d",
   "metadata": {
    "scrolled": true
   },
   "outputs": [
    {
     "name": "stdout",
     "output_type": "stream",
     "text": [
      "Requirement already satisfied: streamlit in c:\\users\\thanmai\\anaconda3\\lib\\site-packages (1.18.1)\n",
      "Requirement already satisfied: python-dateutil in c:\\users\\thanmai\\anaconda3\\lib\\site-packages (from streamlit) (2.8.2)\n",
      "Requirement already satisfied: watchdog in c:\\users\\thanmai\\anaconda3\\lib\\site-packages (from streamlit) (2.1.6)\n",
      "Requirement already satisfied: altair>=3.2.0 in c:\\users\\thanmai\\anaconda3\\lib\\site-packages (from streamlit) (4.2.2)\n",
      "Requirement already satisfied: pandas>=0.25 in c:\\users\\thanmai\\anaconda3\\lib\\site-packages (from streamlit) (1.4.4)\n",
      "Requirement already satisfied: blinker>=1.0.0 in c:\\users\\thanmai\\anaconda3\\lib\\site-packages (from streamlit) (1.5)\n",
      "Requirement already satisfied: tornado>=6.0.3 in c:\\users\\thanmai\\anaconda3\\lib\\site-packages (from streamlit) (6.1)\n",
      "Requirement already satisfied: click>=7.0 in c:\\users\\thanmai\\anaconda3\\lib\\site-packages (from streamlit) (8.0.4)\n",
      "Requirement already satisfied: protobuf<4,>=3.12 in c:\\users\\thanmai\\anaconda3\\lib\\site-packages (from streamlit) (3.20.3)\n",
      "Requirement already satisfied: rich>=10.11.0 in c:\\users\\thanmai\\anaconda3\\lib\\site-packages (from streamlit) (13.3.1)\n",
      "Requirement already satisfied: cachetools>=4.0 in c:\\users\\thanmai\\anaconda3\\lib\\site-packages (from streamlit) (5.3.0)\n",
      "Requirement already satisfied: numpy in c:\\users\\thanmai\\anaconda3\\lib\\site-packages (from streamlit) (1.23.5)\n",
      "Requirement already satisfied: gitpython!=3.1.19 in c:\\users\\thanmai\\anaconda3\\lib\\site-packages (from streamlit) (3.1.30)\n",
      "Requirement already satisfied: toml in c:\\users\\thanmai\\appdata\\roaming\\python\\python39\\site-packages (from streamlit) (0.10.2)\n",
      "Requirement already satisfied: pympler>=0.9 in c:\\users\\thanmai\\anaconda3\\lib\\site-packages (from streamlit) (1.0.1)\n",
      "Requirement already satisfied: requests>=2.4 in c:\\users\\thanmai\\anaconda3\\lib\\site-packages (from streamlit) (2.28.1)\n",
      "Requirement already satisfied: pillow>=6.2.0 in c:\\users\\thanmai\\anaconda3\\lib\\site-packages (from streamlit) (9.2.0)\n",
      "Requirement already satisfied: packaging>=14.1 in c:\\users\\thanmai\\anaconda3\\lib\\site-packages (from streamlit) (21.3)\n",
      "Requirement already satisfied: semver in c:\\users\\thanmai\\anaconda3\\lib\\site-packages (from streamlit) (2.13.0)\n",
      "Requirement already satisfied: validators>=0.2 in c:\\users\\thanmai\\anaconda3\\lib\\site-packages (from streamlit) (0.20.0)\n",
      "Requirement already satisfied: typing-extensions>=3.10.0.0 in c:\\users\\thanmai\\appdata\\roaming\\python\\python39\\site-packages (from streamlit) (3.10.0.0)\n",
      "Requirement already satisfied: importlib-metadata>=1.4 in c:\\users\\thanmai\\anaconda3\\lib\\site-packages (from streamlit) (4.11.3)\n",
      "Requirement already satisfied: pydeck>=0.1.dev5 in c:\\users\\thanmai\\anaconda3\\lib\\site-packages (from streamlit) (0.8.0)\n",
      "Requirement already satisfied: pyarrow>=4.0 in c:\\users\\thanmai\\anaconda3\\lib\\site-packages (from streamlit) (11.0.0)\n",
      "Requirement already satisfied: tzlocal>=1.1 in c:\\users\\thanmai\\anaconda3\\lib\\site-packages (from streamlit) (4.2)\n",
      "Requirement already satisfied: toolz in c:\\users\\thanmai\\anaconda3\\lib\\site-packages (from altair>=3.2.0->streamlit) (0.11.2)\n",
      "Requirement already satisfied: jinja2 in c:\\users\\thanmai\\anaconda3\\lib\\site-packages (from altair>=3.2.0->streamlit) (2.11.3)\n",
      "Requirement already satisfied: entrypoints in c:\\users\\thanmai\\anaconda3\\lib\\site-packages (from altair>=3.2.0->streamlit) (0.4)\n",
      "Requirement already satisfied: jsonschema>=3.0 in c:\\users\\thanmai\\anaconda3\\lib\\site-packages (from altair>=3.2.0->streamlit) (4.16.0)\n",
      "Requirement already satisfied: colorama in c:\\users\\thanmai\\appdata\\roaming\\python\\python39\\site-packages (from click>=7.0->streamlit) (0.4.4)\n",
      "Requirement already satisfied: gitdb<5,>=4.0.1 in c:\\users\\thanmai\\anaconda3\\lib\\site-packages (from gitpython!=3.1.19->streamlit) (4.0.10)\n",
      "Requirement already satisfied: zipp>=0.5 in c:\\users\\thanmai\\anaconda3\\lib\\site-packages (from importlib-metadata>=1.4->streamlit) (3.8.0)\n",
      "Requirement already satisfied: pyparsing!=3.0.5,>=2.0.2 in c:\\users\\thanmai\\anaconda3\\lib\\site-packages (from packaging>=14.1->streamlit) (3.0.9)\n",
      "Requirement already satisfied: pytz>=2020.1 in c:\\users\\thanmai\\anaconda3\\lib\\site-packages (from pandas>=0.25->streamlit) (2022.1)\n",
      "Requirement already satisfied: six>=1.5 in c:\\users\\thanmai\\anaconda3\\lib\\site-packages (from python-dateutil->streamlit) (1.16.0)\n",
      "Requirement already satisfied: idna<4,>=2.5 in c:\\users\\thanmai\\anaconda3\\lib\\site-packages (from requests>=2.4->streamlit) (3.3)\n",
      "Requirement already satisfied: certifi>=2017.4.17 in c:\\users\\thanmai\\anaconda3\\lib\\site-packages (from requests>=2.4->streamlit) (2022.9.14)\n",
      "Requirement already satisfied: charset-normalizer<3,>=2 in c:\\users\\thanmai\\anaconda3\\lib\\site-packages (from requests>=2.4->streamlit) (2.0.4)\n",
      "Requirement already satisfied: urllib3<1.27,>=1.21.1 in c:\\users\\thanmai\\anaconda3\\lib\\site-packages (from requests>=2.4->streamlit) (1.26.11)\n",
      "Requirement already satisfied: pygments<3.0.0,>=2.14.0 in c:\\users\\thanmai\\anaconda3\\lib\\site-packages (from rich>=10.11.0->streamlit) (2.14.0)\n",
      "Requirement already satisfied: markdown-it-py<3.0.0,>=2.1.0 in c:\\users\\thanmai\\anaconda3\\lib\\site-packages (from rich>=10.11.0->streamlit) (2.1.0)\n",
      "Requirement already satisfied: tzdata in c:\\users\\thanmai\\anaconda3\\lib\\site-packages (from tzlocal>=1.1->streamlit) (2022.7)\n",
      "Requirement already satisfied: pytz-deprecation-shim in c:\\users\\thanmai\\anaconda3\\lib\\site-packages (from tzlocal>=1.1->streamlit) (0.1.0.post0)\n",
      "Requirement already satisfied: decorator>=3.4.0 in c:\\users\\thanmai\\anaconda3\\lib\\site-packages (from validators>=0.2->streamlit) (5.1.1)\n",
      "Requirement already satisfied: smmap<6,>=3.0.1 in c:\\users\\thanmai\\anaconda3\\lib\\site-packages (from gitdb<5,>=4.0.1->gitpython!=3.1.19->streamlit) (5.0.0)\n",
      "Requirement already satisfied: MarkupSafe>=0.23 in c:\\users\\thanmai\\anaconda3\\lib\\site-packages (from jinja2->altair>=3.2.0->streamlit) (2.0.1)\n",
      "Requirement already satisfied: attrs>=17.4.0 in c:\\users\\thanmai\\anaconda3\\lib\\site-packages (from jsonschema>=3.0->altair>=3.2.0->streamlit) (21.4.0)\n",
      "Requirement already satisfied: pyrsistent!=0.17.0,!=0.17.1,!=0.17.2,>=0.14.0 in c:\\users\\thanmai\\anaconda3\\lib\\site-packages (from jsonschema>=3.0->altair>=3.2.0->streamlit) (0.18.0)\n",
      "Requirement already satisfied: mdurl~=0.1 in c:\\users\\thanmai\\anaconda3\\lib\\site-packages (from markdown-it-py<3.0.0,>=2.1.0->rich>=10.11.0->streamlit) (0.1.2)\n"
     ]
    }
   ],
   "source": [
    "!pip install streamlit"
   ]
  },
  {
   "cell_type": "code",
   "execution_count": null,
   "id": "123972a8",
   "metadata": {},
   "outputs": [],
   "source": []
  },
  {
   "cell_type": "code",
   "execution_count": null,
   "id": "1a469718",
   "metadata": {},
   "outputs": [],
   "source": []
  }
 ],
 "metadata": {
  "kernelspec": {
   "display_name": "Python 3 (ipykernel)",
   "language": "python",
   "name": "python3"
  },
  "language_info": {
   "codemirror_mode": {
    "name": "ipython",
    "version": 3
   },
   "file_extension": ".py",
   "mimetype": "text/x-python",
   "name": "python",
   "nbconvert_exporter": "python",
   "pygments_lexer": "ipython3",
   "version": "3.9.13"
  }
 },
 "nbformat": 4,
 "nbformat_minor": 5
}
